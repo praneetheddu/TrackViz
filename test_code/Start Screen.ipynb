{
 "cells": [
  {
   "cell_type": "code",
   "execution_count": 5,
   "metadata": {},
   "outputs": [
    {
     "name": "stdout",
     "output_type": "stream",
     "text": [
      "done\n"
     ]
    }
   ],
   "source": [
    "import numpy as numpy\n",
    "import cv2 as cv\n",
    "\n",
    "from pynq.lib import Button, LED\n",
    "from pynq.overlays.base import BaseOverlay\n",
    "from pynq.lib.video import *\n",
    "\n",
    "base = BaseOverlay(\"base.bit\")\n",
    "print(\"done\")"
   ]
  },
  {
   "cell_type": "code",
   "execution_count": 6,
   "metadata": {},
   "outputs": [
    {
     "name": "stdout",
     "output_type": "stream",
     "text": [
      "VideoMode: width=1280 height=720 bpp=24\n",
      "HDMI started\n",
      "going into while\n",
      "ye\n",
      "Closed HDMI. Deleting HDMI ...\n"
     ]
    }
   ],
   "source": [
    "hdmi_in = base.video.hdmi_in\n",
    "hdmi_out = base.video.hdmi_out\n",
    "\n",
    "# Configure the HDMI output to the same resolution as the HDMI input\n",
    "hdmi_in.configure(PIXEL_BGR)\n",
    "hdmi_out.configure(hdmi_in.mode, PIXEL_BGR)\n",
    "print(hdmi_in.mode)\n",
    "\n",
    "hdmi_in.start()\n",
    "hdmi_out.start()\n",
    "print(\"HDMI started\")\n",
    "\n",
    "init = False\n",
    "print(\"going into while\")\n",
    "\n",
    "start_screen_menu = cv.imread('../Contents/start_menu.png')\n",
    "\n",
    "while 1:\n",
    "    new_frame = hdmi_in.readframe()\n",
    "    x_offset=y_offset=0\n",
    "    new_frame[y_offset:y_offset+start_screen_menu.shape[0], x_offset:x_offset+start_screen_menu.shape[1]] = start_screen_menu\n",
    "    hdmi_out.writeframe(new_frame)\n",
    "    if base.buttons[0].read() == 1:\n",
    "        print('ye')\n",
    "        hdmi_out.close()\n",
    "        hdmi_in.close()\n",
    "        print(\"Closed HDMI. Deleting HDMI ...\")\n",
    "        del hdmi_out, hdmi_in\n",
    "        break"
   ]
  },
  {
   "cell_type": "code",
   "execution_count": null,
   "metadata": {},
   "outputs": [],
   "source": []
  }
 ],
 "metadata": {
  "kernelspec": {
   "display_name": "Python 3",
   "language": "python",
   "name": "python3"
  },
  "language_info": {
   "codemirror_mode": {
    "name": "ipython",
    "version": 3
   },
   "file_extension": ".py",
   "mimetype": "text/x-python",
   "name": "python",
   "nbconvert_exporter": "python",
   "pygments_lexer": "ipython3",
   "version": "3.6.5"
  }
 },
 "nbformat": 4,
 "nbformat_minor": 2
}
