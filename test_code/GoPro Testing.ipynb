{
 "cells": [
  {
   "cell_type": "code",
   "execution_count": 1,
   "metadata": {},
   "outputs": [
    {
     "data": {
      "application/javascript": [
       "\n",
       "require(['notebook/js/codecell'], function(codecell) {\n",
       "  codecell.CodeCell.options_default.highlight_modes[\n",
       "      'magic_text/x-csrc'] = {'reg':[/^%%microblaze/]};\n",
       "  Jupyter.notebook.events.one('kernel_ready.Kernel', function(){\n",
       "      Jupyter.notebook.get_cells().map(function(cell){\n",
       "          if (cell.cell_type == 'code'){ cell.auto_highlight(); } }) ;\n",
       "  });\n",
       "});\n"
      ]
     },
     "metadata": {},
     "output_type": "display_data"
    }
   ],
   "source": [
    "# Turning the GoPro on \n",
    "\n",
    "from pynq.overlays.base import BaseOverlay\n",
    "from pynq.overlays.base import BaseOverlay\n",
    "\n",
    "\n",
    "\n",
    "base = BaseOverlay(\"base.bit\")\n",
    "# speed_overlay = Overlay(\"images/speedometer.jpg\")\n",
    "hdmi_in = base.video.hdmi_in\n",
    "hdmi_out = base.video.hdmi_out\n",
    "\n",
    "hdmi_in.configure()\n",
    "hdmi_out.configure(hdmi_in.mode)\n",
    "\n",
    "hdmi_in.start()\n",
    "hdmi_out.start()\n",
    "hdmi_in.tie(hdmi_out)\n",
    "\n",
    "\n"
   ]
  },
  {
   "cell_type": "code",
   "execution_count": 2,
   "metadata": {},
   "outputs": [],
   "source": [
    "# Turn off GoPro by running this script. Do this or the you have to manually turn on the board\n",
    "hdmi_out.close()\n",
    "hdmi_in.close()"
   ]
  },
  {
   "cell_type": "code",
   "execution_count": 3,
   "metadata": {},
   "outputs": [
    {
     "name": "stdout",
     "output_type": "stream",
     "text": [
      "setting up base\n",
      "getting HDMI in\n",
      "configuring hdmi\n",
      "<class 'pynq.buffer.PynqBuffer'>\n"
     ]
    }
   ],
   "source": [
    "# Turning the GoPro on \n",
    "\n",
    "from pynq.overlays.base import BaseOverlay\n",
    "from pynq.overlays.base import BaseOverlay\n",
    "\n",
    "\n",
    "print(\"setting up base\")\n",
    "base = BaseOverlay(\"base.bit\")\n",
    "# speed_overlay = Overlay(\"images/speedometer.jpg\")\n",
    "print('getting HDMI in')\n",
    "hdmi_in = base.video.hdmi_in\n",
    "#hdmi_out = base.video.hdmi_out\n",
    "print(\"configuring hdmi\")\n",
    "hdmi_in.configure()\n",
    "\n",
    "#hdmi_out.configure(hdmi_in.mode)\n",
    "hdmi_in.start()\n",
    "print(type(hdmi_in.readframe()))\n",
    "\n",
    "#hdmi_out.start()\n",
    "#hdmi_in.tie(hdmi_out)"
   ]
  },
  {
   "cell_type": "code",
   "execution_count": null,
   "metadata": {},
   "outputs": [],
   "source": [
    "import plotly.graph_objects as go\n",
    "import plotly.io as pio\n",
    "import plotly\n",
    "\n",
    "fig = go.Figure(go.Indicator(\n",
    "    domain = {'x': [0, 1], 'y': [0, 1]},\n",
    "    value = 0.6,\n",
    "    mode = \"gauge+number+delta\",\n",
    "    title = {'text': \"Speed\"},\n",
    "    gauge = {'axis': {'range': [None, 200]},\n",
    "             'steps' : [\n",
    "                 {'range': [0, 120], 'color': \"lightgray\"},\n",
    "                 {'range': [120, 180], 'color': \"gray\"},\n",
    "                 {'range': [180, 200], 'color': \"red\"}]}))\n",
    "\n",
    "#fig.write_image(\"Contents/speed_gauge.png\")\n",
    "fig = fig.show(renderer=\"png\")\n",
    "print(type(fig))\n",
    "plot = plotly.offline.plot(fig, filename='gauge.html')\n",
    "\n",
    "export_png(plot, filename=\"plot.png\")\n",
    "\n",
    "#plot_mpl(fig, image='png')\n",
    "print('done')"
   ]
  },
  {
   "cell_type": "code",
   "execution_count": null,
   "metadata": {},
   "outputs": [],
   "source": []
  },
  {
   "cell_type": "code",
   "execution_count": null,
   "metadata": {},
   "outputs": [],
   "source": []
  }
 ],
 "metadata": {
  "kernelspec": {
   "display_name": "Python 3",
   "language": "python",
   "name": "python3"
  },
  "language_info": {
   "codemirror_mode": {
    "name": "ipython",
    "version": 3
   },
   "file_extension": ".py",
   "mimetype": "text/x-python",
   "name": "python",
   "nbconvert_exporter": "python",
   "pygments_lexer": "ipython3",
   "version": "3.6.5"
  }
 },
 "nbformat": 4,
 "nbformat_minor": 2
}
