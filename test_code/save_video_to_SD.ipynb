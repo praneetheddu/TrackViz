{
 "cells": [
  {
   "cell_type": "code",
   "execution_count": 7,
   "metadata": {},
   "outputs": [
    {
     "name": "stdout",
     "output_type": "stream",
     "text": [
      "done\n"
     ]
    }
   ],
   "source": [
    "import numpy as numpy\n",
    "#import cv2 as cv\n",
    "\n",
    "from pynq.lib import Button, LED\n",
    "from pynq.overlays.base import BaseOverlay\n",
    "from pynq.lib.video import *\n",
    "\n",
    "base = BaseOverlay(\"base.bit\")\n",
    "print(\"done\")"
   ]
  },
  {
   "cell_type": "code",
   "execution_count": 9,
   "metadata": {},
   "outputs": [
    {
     "name": "stdout",
     "output_type": "stream",
     "text": [
      "done\n"
     ]
    }
   ],
   "source": [
    "# import the necessary packages\n",
    "from threading import Thread\n",
    "import sys\n",
    "import cv2\n",
    "from queue import Queue\n",
    "from imutils.video import FileVideoStream\n",
    "from imutils.video import FPS\n",
    "import time\n",
    " \n",
    "\n",
    "class FileVideoStream:\n",
    "    def __init__(self, path, hdmi, queueSize=128):\n",
    "        self.path = path\n",
    "        self.stream = hdmi_in.readframe()\n",
    "        self.stopped = False\n",
    "        self.hdmi = hdmi\n",
    "        self.Q = Queue(maxsize=queueSize)\n",
    "    \n",
    "    def start(self):\n",
    "        t = Thread(target=self.update, args=())\n",
    "        t.daemon = True\n",
    "        t.start()\n",
    "        return self\n",
    "    \n",
    "    def update(self):\n",
    "        while True:\n",
    "            if self.stopped == True:\n",
    "                return\n",
    "            \n",
    "            if not self.Q.full():\n",
    "                frame = self.hdmi.readframe()\n",
    "            if base.buttons[0].read() == 1:\n",
    "                self.hdmi_in.close()\n",
    "                del self.hdmi_in\n",
    "                self.stop()\n",
    "                return\n",
    "            self.Q.put(frame)\n",
    "\n",
    "    def read(self):\n",
    "        # return next frame in the queue\n",
    "        return self.Q.get()\n",
    "    \n",
    "    def more(self):\n",
    "        # return True if there are still frames in the queue\n",
    "        return self.Q.qsize() > 0\n",
    "    \n",
    "    def stop(self):\n",
    "        # indicate that the thread should be stopped\n",
    "        self.stopped = True\n",
    "            \n",
    "print('done')"
   ]
  },
  {
   "cell_type": "code",
   "execution_count": 10,
   "metadata": {},
   "outputs": [
    {
     "name": "stdout",
     "output_type": "stream",
     "text": [
      "VideoMode: width=1280 height=720 bpp=24\n",
      "HDMI started\n"
     ]
    },
    {
     "name": "stderr",
     "output_type": "stream",
     "text": [
      "Exception in thread Thread-5:\n",
      "Traceback (most recent call last):\n",
      "  File \"/usr/lib/python3.6/threading.py\", line 916, in _bootstrap_inner\n",
      "    self.run()\n",
      "  File \"/usr/lib/python3.6/threading.py\", line 864, in run\n",
      "    self._target(*self._args, **self._kwargs)\n",
      "  File \"<ipython-input-9-8299814d4dcc>\", line 31, in update\n",
      "    frame = self.hdmi.readframe()\n",
      "  File \"/usr/local/lib/python3.6/dist-packages/pynq/lib/video/hierarchies.py\", line 196, in readframe\n",
      "    return self._vdma.readchannel.readframe()\n",
      "  File \"/usr/local/lib/python3.6/dist-packages/pynq/lib/video/dma.py\", line 204, in readframe\n",
      "    return self._readframe_internal()\n",
      "  File \"/usr/local/lib/python3.6/dist-packages/pynq/lib/video/dma.py\", line 173, in _readframe_internal\n",
      "    nextframe = self._cache.getframe()\n",
      "  File \"/usr/local/lib/python3.6/dist-packages/pynq/lib/video/dma.py\", line 61, in getframe\n",
      "    cacheable=self._cacheable, cache=self)\n",
      "  File \"/usr/local/lib/python3.6/dist-packages/pynq/buffer.py\", line 143, in allocate\n",
      "    return target.allocate(shape, dtype, **kwargs)\n",
      "  File \"/usr/local/lib/python3.6/dist-packages/pynq/pl_server/device.py\", line 257, in allocate\n",
      "    return self.default_memory.allocate(shape, dtype, **kwargs)\n",
      "  File \"/usr/local/lib/python3.6/dist-packages/pynq/xlnk.py\", line 253, in allocate\n",
      "    return self.cma_array(*args, **kwargs)\n",
      "  File \"/usr/local/lib/python3.6/dist-packages/pynq/xlnk.py\", line 288, in cma_array\n",
      "    raw_pointer = self.cma_alloc(length, cacheable=cacheable)\n",
      "  File \"/usr/local/lib/python3.6/dist-packages/pynq/xlnk.py\", line 222, in cma_alloc\n",
      "    raise RuntimeError(\"Failed to allocate Memory!\")\n",
      "RuntimeError: Failed to allocate Memory!\n",
      "\n"
     ]
    },
    {
     "name": "stdout",
     "output_type": "stream",
     "text": [
      "going into while\n"
     ]
    },
    {
     "ename": "NameError",
     "evalue": "name 'imutils' is not defined",
     "output_type": "error",
     "traceback": [
      "\u001b[0;31m---------------------------------------------------------------------------\u001b[0m",
      "\u001b[0;31mNameError\u001b[0m                                 Traceback (most recent call last)",
      "\u001b[0;32m<ipython-input-10-74f5b06487f4>\u001b[0m in \u001b[0;36m<module>\u001b[0;34m()\u001b[0m\n\u001b[1;32m     24\u001b[0m \u001b[0;32mwhile\u001b[0m \u001b[0mfvs\u001b[0m\u001b[0;34m.\u001b[0m\u001b[0mmore\u001b[0m\u001b[0;34m(\u001b[0m\u001b[0;34m)\u001b[0m\u001b[0;34m:\u001b[0m\u001b[0;34m\u001b[0m\u001b[0m\n\u001b[1;32m     25\u001b[0m     \u001b[0mframe\u001b[0m \u001b[0;34m=\u001b[0m \u001b[0mfvs\u001b[0m\u001b[0;34m.\u001b[0m\u001b[0mread\u001b[0m\u001b[0;34m(\u001b[0m\u001b[0;34m)\u001b[0m\u001b[0;34m\u001b[0m\u001b[0m\n\u001b[0;32m---> 26\u001b[0;31m     \u001b[0mframe\u001b[0m \u001b[0;34m=\u001b[0m \u001b[0mimutils\u001b[0m\u001b[0;34m.\u001b[0m\u001b[0mresize\u001b[0m\u001b[0;34m(\u001b[0m\u001b[0mframe\u001b[0m\u001b[0;34m,\u001b[0m \u001b[0mwidth\u001b[0m\u001b[0;34m=\u001b[0m\u001b[0;36m1280\u001b[0m\u001b[0;34m)\u001b[0m\u001b[0;34m\u001b[0m\u001b[0m\n\u001b[0m\u001b[1;32m     27\u001b[0m     \u001b[0mframe\u001b[0m \u001b[0;34m=\u001b[0m \u001b[0mcv2\u001b[0m\u001b[0;34m.\u001b[0m\u001b[0mcvtColor\u001b[0m\u001b[0;34m(\u001b[0m\u001b[0mframe\u001b[0m\u001b[0;34m,\u001b[0m \u001b[0mcv2\u001b[0m\u001b[0;34m.\u001b[0m\u001b[0mCOLOR_BGR2GRAY\u001b[0m\u001b[0;34m)\u001b[0m\u001b[0;34m\u001b[0m\u001b[0m\n\u001b[1;32m     28\u001b[0m     \u001b[0mframe\u001b[0m \u001b[0;34m=\u001b[0m \u001b[0mnp\u001b[0m\u001b[0;34m.\u001b[0m\u001b[0mdstack\u001b[0m\u001b[0;34m(\u001b[0m\u001b[0;34m[\u001b[0m\u001b[0mframe\u001b[0m\u001b[0;34m,\u001b[0m \u001b[0mframe\u001b[0m\u001b[0;34m,\u001b[0m \u001b[0mframe\u001b[0m\u001b[0;34m]\u001b[0m\u001b[0;34m)\u001b[0m\u001b[0;34m\u001b[0m\u001b[0m\n",
      "\u001b[0;31mNameError\u001b[0m: name 'imutils' is not defined"
     ]
    }
   ],
   "source": [
    "hdmi_in = base.video.hdmi_in\n",
    "#hdmi_out = base.video.hdmi_out\n",
    "\n",
    "# Configure the HDMI output to the same resolution as the HDMI input\n",
    "hdmi_in.configure(PIXEL_BGR)\n",
    "#hdmi_out.configure(hdmi_in.mode, PIXEL_BGR)\n",
    "print(hdmi_in.mode)\n",
    "\n",
    "hdmi_in.start()\n",
    "#hdmi_out.start()\n",
    "print(\"HDMI started\")\n",
    "\n",
    "\n",
    "\n",
    "fvs = FileVideoStream('output.mp4', hdmi_in).start()\n",
    "time.sleep(1.0)\n",
    "fps = FPS().start()\n",
    "\n",
    "print(\"going into while\")\n",
    "fourcc = cv2.VideoWriter_fourcc(*'MP4V')\n",
    "out = cv2.VideoWriter('output.mp4', 0x00000021, 30.0, (1280,720))\n",
    "\n",
    "\n",
    "while fvs.more():\n",
    "    frame = fvs.read()\n",
    "    frame = imutils.resize(frame, width=1280)\n",
    "    frame = cv2.cvtColor(frame, cv2.COLOR_BGR2GRAY)\n",
    "    frame = np.dstack([frame, frame, frame])\n",
    "    out.write(frame)\n",
    "    fps.update()\n",
    "\n",
    "fps.stop()\n",
    "print(\"[INFO] elasped time: {:.2f}\".format(fps.elapsed()))\n",
    "print(\"[INFO] approx. FPS: {:.2f}\".format(fps.fps()))\n",
    "fvs.stop()\n",
    "\n",
    "\n",
    "\n",
    "# while 1:\n",
    "#     new_frame = \n",
    "#     out.write(new_frame)\n",
    "#     hdmi_out.writeframe(new_frame)\n",
    "#     if base.buttons[0].read() == 1:\n",
    "#         print('ye')\n",
    "#         hdmi_out.close()\n",
    "#         hdmi_in.close()\n",
    "#         print(\"Closed HDMI. Deleting HDMI ...\")\n",
    "#         del hdmi_out, hdmi_in\n",
    "#         break\n",
    "\n",
    "#out.release()"
   ]
  },
  {
   "cell_type": "code",
   "execution_count": null,
   "metadata": {},
   "outputs": [],
   "source": []
  }
 ],
 "metadata": {
  "kernelspec": {
   "display_name": "Python 3",
   "language": "python",
   "name": "python3"
  },
  "language_info": {
   "codemirror_mode": {
    "name": "ipython",
    "version": 3
   },
   "file_extension": ".py",
   "mimetype": "text/x-python",
   "name": "python",
   "nbconvert_exporter": "python",
   "pygments_lexer": "ipython3",
   "version": "3.6.5"
  }
 },
 "nbformat": 4,
 "nbformat_minor": 2
}
